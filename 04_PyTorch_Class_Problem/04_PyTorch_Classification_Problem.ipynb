{
 "cells": [
  {
   "cell_type": "code",
   "id": "initial_id",
   "metadata": {
    "collapsed": true,
    "ExecuteTime": {
     "end_time": "2025-02-17T15:13:47.467869Z",
     "start_time": "2025-02-17T15:13:46.659637Z"
    }
   },
   "source": [
    "import torch\n",
    "from sklearn import datasets"
   ],
   "outputs": [],
   "execution_count": 1
  },
  {
   "metadata": {
    "ExecuteTime": {
     "end_time": "2025-02-17T15:13:47.622098Z",
     "start_time": "2025-02-17T15:13:47.468819Z"
    }
   },
   "cell_type": "code",
   "source": [
    "device = 'mps' if torch.mps.is_available() else 'cpu'\n",
    "\n",
    "data = datasets.load_iris()\n",
    "X = torch.from_numpy(data['data']).to(device=device, dtype=torch.float)\n",
    "y = torch.from_numpy(data['target']).to(device=device, dtype=torch.float)\n",
    "\n",
    "X[:5], y[:5]"
   ],
   "id": "380212bab85d3d79",
   "outputs": [
    {
     "data": {
      "text/plain": [
       "(tensor([[5.1000, 3.5000, 1.4000, 0.2000],\n",
       "         [4.9000, 3.0000, 1.4000, 0.2000],\n",
       "         [4.7000, 3.2000, 1.3000, 0.2000],\n",
       "         [4.6000, 3.1000, 1.5000, 0.2000],\n",
       "         [5.0000, 3.6000, 1.4000, 0.2000]], device='mps:0'),\n",
       " tensor([0., 0., 0., 0., 0.], device='mps:0'))"
      ]
     },
     "execution_count": 2,
     "metadata": {},
     "output_type": "execute_result"
    }
   ],
   "execution_count": 2
  },
  {
   "metadata": {
    "ExecuteTime": {
     "end_time": "2025-02-17T15:13:47.659219Z",
     "start_time": "2025-02-17T15:13:47.622652Z"
    }
   },
   "cell_type": "code",
   "source": [
    "print('The X dataset has shape {}'.format(X.shape))\n",
    "print('The y dataset has shape {}'.format(y.shape))\n",
    "print('The labels in y dataset are: {}'.format(torch.unique(y)))"
   ],
   "id": "41c4d1341cae4d38",
   "outputs": [
    {
     "name": "stdout",
     "output_type": "stream",
     "text": [
      "The X dataset has shape torch.Size([150, 4])\n",
      "The y dataset has shape torch.Size([150])\n",
      "The labels in y dataset are: tensor([0., 1., 2.], device='mps:0')\n"
     ]
    }
   ],
   "execution_count": 3
  },
  {
   "metadata": {},
   "cell_type": "markdown",
   "source": "### We know from sklearn docs that the load_iris() dataset has NO missing values. We can then skip that phase of DEA and go straight to the ML part (standardizing the data etc is not the core of the topic here, we point to crunch some data with a ML model and get experience with PyTorch instead, whatever the final accuracy is)",
   "id": "c8a54e261525d017"
  },
  {
   "metadata": {
    "ExecuteTime": {
     "end_time": "2025-02-17T15:13:47.702660Z",
     "start_time": "2025-02-17T15:13:47.659900Z"
    }
   },
   "cell_type": "code",
   "source": [
    "#let's split the original dataset into train and test (we know that the labels are equally spread through the three target classes from sklearn docs)\n",
    "from sklearn.model_selection import train_test_split\n",
    "X_train, X_test, y_train, y_test = train_test_split(X, y, test_size=0.2)"
   ],
   "id": "8f6f4348aa3ae985",
   "outputs": [],
   "execution_count": 4
  },
  {
   "metadata": {
    "ExecuteTime": {
     "end_time": "2025-02-17T15:13:47.709449Z",
     "start_time": "2025-02-17T15:13:47.703292Z"
    }
   },
   "cell_type": "code",
   "source": [
    "from torch.nn import functional as F\n",
    "class ClassificationNet(torch.nn.Module):\n",
    "    def __init__(self):\n",
    "        super().__init__()\n",
    "        self.fc1 = torch.nn.Linear(in_features=4, \n",
    "                                   out_features=20)\n",
    "        self.fc2 = torch.nn.Linear(in_features=20, \n",
    "                                   out_features=40)\n",
    "        self.fc3 = torch.nn.Linear(in_features=40,\n",
    "                                   out_features=3)\n",
    "    \n",
    "    def forward(self, x):\n",
    "        x = self.fc1(x)\n",
    "        x = F.relu(x)\n",
    "        x = self.fc2(x)\n",
    "        x = F.relu(x)\n",
    "        x = self.fc3(x)\n",
    "        x = F.softmax(x, dim=1)\n",
    "        return x\n",
    "    \n",
    "model = ClassificationNet().to(device=device)\n",
    "model"
   ],
   "id": "854f8ce0cab697fe",
   "outputs": [
    {
     "data": {
      "text/plain": [
       "ClassificationNet(\n",
       "  (fc1): Linear(in_features=4, out_features=20, bias=True)\n",
       "  (fc2): Linear(in_features=20, out_features=40, bias=True)\n",
       "  (fc3): Linear(in_features=40, out_features=3, bias=True)\n",
       ")"
      ]
     },
     "execution_count": 5,
     "metadata": {},
     "output_type": "execute_result"
    }
   ],
   "execution_count": 5
  },
  {
   "metadata": {
    "ExecuteTime": {
     "end_time": "2025-02-17T15:13:47.711584Z",
     "start_time": "2025-02-17T15:13:47.710077Z"
    }
   },
   "cell_type": "code",
   "source": [
    "for param in model.parameters():\n",
    "    print(param.shape)"
   ],
   "id": "da7a8e14fbe3a6f5",
   "outputs": [
    {
     "name": "stdout",
     "output_type": "stream",
     "text": [
      "torch.Size([20, 4])\n",
      "torch.Size([20])\n",
      "torch.Size([40, 20])\n",
      "torch.Size([40])\n",
      "torch.Size([3, 40])\n",
      "torch.Size([3])\n"
     ]
    }
   ],
   "execution_count": 6
  },
  {
   "metadata": {
    "ExecuteTime": {
     "end_time": "2025-02-17T15:14:01.380681Z",
     "start_time": "2025-02-17T15:13:47.712964Z"
    }
   },
   "cell_type": "code",
   "source": [
    "LEARNING_RATE = 5e-3\n",
    "epochs = 10_000\n",
    "loss_fn = torch.nn.CrossEntropyLoss() #CrossEntropyLoss works with the logits\n",
    "optimizer = torch.optim.SGD(model.parameters(), lr=LEARNING_RATE)\n",
    "iteration = 0 \n",
    "accuracy_hist = []\n",
    "loss_hist = []\n",
    "\n",
    "for epoch in range(epochs):\n",
    "    iteration = iteration + 1\n",
    "    y_hat = model(X_train)\n",
    "    \n",
    "    step_loss = loss_fn(y_hat, y_train)\n",
    "    step_accuracy = (torch.argmax(y_hat, dim=1) == y_train).float().sum() / (y_hat.shape[0])\n",
    "    step_loss.backward()\n",
    "    optimizer.step()\n",
    "\n",
    "    optimizer.zero_grad()\n",
    "\n",
    "    if iteration % 300 == 0:\n",
    "        print(f'Iteration: {iteration}, Loss: {step_loss.item():.5f}')\n",
    "        print(f'\\tAccuracy: {step_accuracy:.4f}\\n')\n",
    "    \n",
    "    loss_hist.append(step_loss.item())\n",
    "    accuracy_hist.append(step_accuracy.item())\n"
   ],
   "id": "6f686d0982f0e407",
   "outputs": [
    {
     "name": "stdout",
     "output_type": "stream",
     "text": [
      "Iteration: 300, Loss: 1.05897\n",
      "\tAccuracy: 0.3333\n",
      "\n",
      "Iteration: 600, Loss: 0.97863\n",
      "\tAccuracy: 0.6833\n",
      "\n",
      "Iteration: 900, Loss: 0.87398\n",
      "\tAccuracy: 0.6833\n",
      "\n",
      "Iteration: 1200, Loss: 0.81454\n",
      "\tAccuracy: 0.6917\n",
      "\n",
      "Iteration: 1500, Loss: 0.77587\n",
      "\tAccuracy: 0.8583\n",
      "\n",
      "Iteration: 1800, Loss: 0.74056\n",
      "\tAccuracy: 0.9333\n",
      "\n",
      "Iteration: 2100, Loss: 0.70689\n",
      "\tAccuracy: 0.9833\n",
      "\n",
      "Iteration: 2400, Loss: 0.67782\n",
      "\tAccuracy: 0.9917\n",
      "\n",
      "Iteration: 2700, Loss: 0.65493\n",
      "\tAccuracy: 0.9917\n",
      "\n",
      "Iteration: 3000, Loss: 0.63798\n",
      "\tAccuracy: 0.9917\n",
      "\n",
      "Iteration: 3300, Loss: 0.62558\n",
      "\tAccuracy: 0.9917\n",
      "\n",
      "Iteration: 3600, Loss: 0.61641\n",
      "\tAccuracy: 0.9917\n",
      "\n",
      "Iteration: 3900, Loss: 0.60945\n",
      "\tAccuracy: 0.9917\n",
      "\n",
      "Iteration: 4200, Loss: 0.60406\n",
      "\tAccuracy: 0.9917\n",
      "\n",
      "Iteration: 4500, Loss: 0.59978\n",
      "\tAccuracy: 0.9917\n",
      "\n",
      "Iteration: 4800, Loss: 0.59631\n",
      "\tAccuracy: 0.9917\n",
      "\n",
      "Iteration: 5100, Loss: 0.59345\n",
      "\tAccuracy: 0.9917\n",
      "\n",
      "Iteration: 5400, Loss: 0.59105\n",
      "\tAccuracy: 0.9917\n",
      "\n",
      "Iteration: 5700, Loss: 0.58901\n",
      "\tAccuracy: 0.9917\n",
      "\n",
      "Iteration: 6000, Loss: 0.58725\n",
      "\tAccuracy: 0.9917\n",
      "\n",
      "Iteration: 6300, Loss: 0.58571\n",
      "\tAccuracy: 0.9917\n",
      "\n",
      "Iteration: 6600, Loss: 0.58436\n",
      "\tAccuracy: 0.9917\n",
      "\n",
      "Iteration: 6900, Loss: 0.58316\n",
      "\tAccuracy: 0.9917\n",
      "\n",
      "Iteration: 7200, Loss: 0.58210\n",
      "\tAccuracy: 0.9917\n",
      "\n",
      "Iteration: 7500, Loss: 0.58115\n",
      "\tAccuracy: 0.9917\n",
      "\n",
      "Iteration: 7800, Loss: 0.58029\n",
      "\tAccuracy: 0.9917\n",
      "\n",
      "Iteration: 8100, Loss: 0.57952\n",
      "\tAccuracy: 0.9917\n",
      "\n",
      "Iteration: 8400, Loss: 0.57881\n",
      "\tAccuracy: 0.9917\n",
      "\n",
      "Iteration: 8700, Loss: 0.57815\n",
      "\tAccuracy: 0.9917\n",
      "\n",
      "Iteration: 9000, Loss: 0.57756\n",
      "\tAccuracy: 0.9917\n",
      "\n",
      "Iteration: 9300, Loss: 0.57700\n",
      "\tAccuracy: 0.9917\n",
      "\n",
      "Iteration: 9600, Loss: 0.57649\n",
      "\tAccuracy: 0.9917\n",
      "\n",
      "Iteration: 9900, Loss: 0.57601\n",
      "\tAccuracy: 0.9917\n",
      "\n"
     ]
    }
   ],
   "execution_count": 7
  },
  {
   "metadata": {
    "ExecuteTime": {
     "end_time": "2025-02-17T15:14:01.515803Z",
     "start_time": "2025-02-17T15:14:01.382083Z"
    }
   },
   "cell_type": "code",
   "source": [
    "import seaborn as sns\n",
    "import matplotlib.pyplot as plt\n",
    "fig, ax = plt.subplots(figsize=(15, 8))\n",
    "for idx, scorer in enumerate([accuracy_hist, loss_hist]):\n",
    "    fig.add_subplot(1, 2, idx + 1)\n",
    "    sns.lineplot(x=torch.arange(start=0, end=10_000, step=1), \n",
    "                 y=scorer,\n",
    "                 color='blue',\n",
    "                 linewidth=0.75)\n",
    "    plt.title('Test')"
   ],
   "id": "30a5358890585152",
   "outputs": [
    {
     "data": {
      "text/plain": [
       "<Figure size 1500x800 with 3 Axes>"
      ],
      "image/png": "[encoded data removed]"
     },
     "metadata": {},
     "output_type": "display_data"
    }
   ],
   "execution_count": 8
  },
  {
   "metadata": {},
   "cell_type": "code",
   "source": [
    "model.eval()\n",
    "with torch.inference_mode():\n",
    "    prediction = model(X_test)\n",
    "\n",
    "loss_test = loss_fn(prediction, y_test)\n",
    "print(f'Loss: {loss_test.item():.5f}')\n",
    "\n",
    "prediction.argmax(dim=1)"
   ],
   "id": "52ae6e9c9c63618f",
   "outputs": [],
   "execution_count": null
  }
 ],
 "metadata": {
  "kernelspec": {
   "display_name": "Python 3",
   "language": "python",
   "name": "python3"
  },
  "language_info": {
   "codemirror_mode": {
    "name": "ipython",
    "version": 2
   },
   "file_extension": ".py",
   "mimetype": "text/x-python",
   "name": "python",
   "nbconvert_exporter": "python",
   "pygments_lexer": "ipython2",
   "version": "2.7.6"
  }
 },
 "nbformat": 4,
 "nbformat_minor": 5
}
