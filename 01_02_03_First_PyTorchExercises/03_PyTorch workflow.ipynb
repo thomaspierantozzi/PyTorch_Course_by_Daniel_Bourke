{
 "cells": [
  {
   "cell_type": "code",
   "id": "initial_id",
   "metadata": {
    "collapsed": true,
    "ExecuteTime": {
     "end_time": "2025-02-13T21:58:40.240374Z",
     "start_time": "2025-02-13T21:58:40.237787Z"
    }
   },
   "source": [
    "import torch\n",
    "from torch import nn\n",
    "import numpy as np\n",
    "import matplotlib.pyplot as plt\n",
    "import seaborn as sns"
   ],
   "outputs": [],
   "execution_count": 48
  },
  {
   "metadata": {
    "ExecuteTime": {
     "end_time": "2025-02-13T21:58:40.256206Z",
     "start_time": "2025-02-13T21:58:40.253682Z"
    }
   },
   "cell_type": "code",
   "source": "torch.__version__",
   "id": "f0813894b7897714",
   "outputs": [
    {
     "data": {
      "text/plain": [
       "'2.6.0'"
      ]
     },
     "execution_count": 49,
     "metadata": {},
     "output_type": "execute_result"
    }
   ],
   "execution_count": 49
  },
  {
   "metadata": {},
   "cell_type": "markdown",
   "source": "### 1. Data preparing and loading...",
   "id": "ec04b6f6c70743d2"
  },
  {
   "metadata": {
    "ExecuteTime": {
     "end_time": "2025-02-13T21:58:40.262649Z",
     "start_time": "2025-02-13T21:58:40.257923Z"
    }
   },
   "cell_type": "code",
   "source": [
    "M = torch.tensor(data=[3 , 6, -0.04, -2.1], device='mps', dtype=torch.float).unsqueeze(1)\n",
    "Q = 15.6\n",
    "#let's prepare some synthetic data\n",
    "X = torch.randint(\n",
    "    low=-8,\n",
    "    high=27,\n",
    "    device='mps',\n",
    "    size=(50_000, 4),\n",
    "    dtype=torch.float\n",
    ")\n",
    "y = X @ M + Q\n",
    "\n",
    "print(f'Shape of tensor X: {X.shape} | Shape of tensor y: {y.shape}')"
   ],
   "id": "fb08294f48de9149",
   "outputs": [
    {
     "name": "stdout",
     "output_type": "stream",
     "text": [
      "Shape of tensor X: torch.Size([50000, 4]) | Shape of tensor y: torch.Size([50000, 1])\n"
     ]
    }
   ],
   "execution_count": 50
  },
  {
   "metadata": {
    "ExecuteTime": {
     "end_time": "2025-02-13T21:58:40.269408Z",
     "start_time": "2025-02-13T21:58:40.266750Z"
    }
   },
   "cell_type": "code",
   "source": [
    "class LinearRegression(nn.Module):\n",
    "    def __init__(self):\n",
    "        super().__init__()\n",
    "        self.linear_layer = nn.Linear(in_features=4, out_features=1, device='mps')\n",
    "    \n",
    "    def forward(self, x):\n",
    "        x = self.linear_layer(x)\n",
    "        return x\n",
    "    \n",
    "linear_model = LinearRegression()"
   ],
   "id": "e544be5adc0ef438",
   "outputs": [],
   "execution_count": 51
  },
  {
   "metadata": {
    "ExecuteTime": {
     "end_time": "2025-02-13T21:59:00.635158Z",
     "start_time": "2025-02-13T21:58:40.270263Z"
    }
   },
   "cell_type": "code",
   "source": [
    "LEARNING_RATE = 1e-3\n",
    "PATIENCE = 25 #nr of iterations which must result in a loss lower than a given threshold, which the system must wait prior to stop the loop\n",
    "LOSS_DELTA_THRESHOLD = 1e-6\n",
    "MAX_ITERATIONS = 100_000\n",
    "iteration_converged = 0\n",
    "loss_foo = nn.MSELoss()\n",
    "optimizer = torch.optim.SGD(linear_model.parameters(), lr=LEARNING_RATE)\n",
    "\n",
    "loss_history=[]\n",
    "iteration = 0\n",
    "\n",
    "while True:\n",
    "    iteration += 1\n",
    "    prediction = linear_model(X) #forward step\n",
    "    step_loss = torch.sqrt(loss_foo(prediction, y))\n",
    "    loss_history.append(step_loss.item())\n",
    "    step_loss.backward() #computes the grad of the tensor, with respect to its varialbes where a requires_grad is set to True\n",
    "    optimizer.step()\n",
    "    optimizer.zero_grad()\n",
    "    if iteration % 100 == 0:\n",
    "        print(f'Iteration: {iteration}, Loss: {step_loss.item():.5f}')\n",
    "    loss_delta = loss_history[-1] - loss_history[-2] if len(loss_history) > 5 else 1000\n",
    "    if abs(loss_delta) < LOSS_DELTA_THRESHOLD:\n",
    "        iteration_converged += 1\n",
    "    if (iteration_converged >= PATIENCE) or (iteration > MAX_ITERATIONS):\n",
    "        break\n",
    "        "
   ],
   "id": "5c5a263c8261f1ef",
   "outputs": [
    {
     "name": "stdout",
     "output_type": "stream",
     "text": [
      "Iteration: 100, Loss: 81.43188\n",
      "Iteration: 200, Loss: 58.03502\n",
      "Iteration: 300, Loss: 41.93195\n",
      "Iteration: 400, Loss: 30.57482\n",
      "Iteration: 500, Loss: 21.06225\n",
      "Iteration: 600, Loss: 13.00974\n",
      "Iteration: 700, Loss: 8.48117\n",
      "Iteration: 800, Loss: 7.59656\n",
      "Iteration: 900, Loss: 7.50445\n",
      "Iteration: 1000, Loss: 7.47590\n",
      "Iteration: 1100, Loss: 7.45154\n",
      "Iteration: 1200, Loss: 7.42746\n",
      "Iteration: 1300, Loss: 7.40340\n",
      "Iteration: 1400, Loss: 7.37934\n",
      "Iteration: 1500, Loss: 7.35528\n",
      "Iteration: 1600, Loss: 7.33121\n",
      "Iteration: 1700, Loss: 7.30715\n",
      "Iteration: 1800, Loss: 7.28308\n",
      "Iteration: 1900, Loss: 7.25902\n",
      "Iteration: 2000, Loss: 7.23495\n",
      "Iteration: 2100, Loss: 7.21089\n",
      "Iteration: 2200, Loss: 7.18683\n",
      "Iteration: 2300, Loss: 7.16276\n",
      "Iteration: 2400, Loss: 7.13870\n",
      "Iteration: 2500, Loss: 7.11464\n",
      "Iteration: 2600, Loss: 7.09058\n",
      "Iteration: 2700, Loss: 7.06652\n",
      "Iteration: 2800, Loss: 7.04246\n",
      "Iteration: 2900, Loss: 7.01840\n",
      "Iteration: 3000, Loss: 6.99433\n",
      "Iteration: 3100, Loss: 6.97027\n",
      "Iteration: 3200, Loss: 6.94621\n",
      "Iteration: 3300, Loss: 6.92215\n",
      "Iteration: 3400, Loss: 6.89809\n",
      "Iteration: 3500, Loss: 6.87403\n",
      "Iteration: 3600, Loss: 6.84997\n",
      "Iteration: 3700, Loss: 6.82591\n",
      "Iteration: 3800, Loss: 6.80184\n",
      "Iteration: 3900, Loss: 6.77778\n",
      "Iteration: 4000, Loss: 6.75372\n",
      "Iteration: 4100, Loss: 6.72966\n",
      "Iteration: 4200, Loss: 6.70560\n",
      "Iteration: 4300, Loss: 6.68154\n",
      "Iteration: 4400, Loss: 6.65747\n",
      "Iteration: 4500, Loss: 6.63341\n",
      "Iteration: 4600, Loss: 6.60934\n",
      "Iteration: 4700, Loss: 6.58527\n",
      "Iteration: 4800, Loss: 6.56120\n",
      "Iteration: 4900, Loss: 6.53714\n",
      "Iteration: 5000, Loss: 6.51307\n",
      "Iteration: 5100, Loss: 6.48900\n",
      "Iteration: 5200, Loss: 6.46494\n",
      "Iteration: 5300, Loss: 6.44087\n",
      "Iteration: 5400, Loss: 6.41680\n",
      "Iteration: 5500, Loss: 6.39273\n",
      "Iteration: 5600, Loss: 6.36867\n",
      "Iteration: 5700, Loss: 6.34460\n",
      "Iteration: 5800, Loss: 6.32053\n",
      "Iteration: 5900, Loss: 6.29647\n",
      "Iteration: 6000, Loss: 6.27240\n",
      "Iteration: 6100, Loss: 6.24833\n",
      "Iteration: 6200, Loss: 6.22426\n",
      "Iteration: 6300, Loss: 6.20020\n",
      "Iteration: 6400, Loss: 6.17613\n",
      "Iteration: 6500, Loss: 6.15206\n",
      "Iteration: 6600, Loss: 6.12800\n",
      "Iteration: 6700, Loss: 6.10393\n",
      "Iteration: 6800, Loss: 6.07986\n",
      "Iteration: 6900, Loss: 6.05580\n",
      "Iteration: 7000, Loss: 6.03173\n",
      "Iteration: 7100, Loss: 6.00766\n",
      "Iteration: 7200, Loss: 5.98359\n",
      "Iteration: 7300, Loss: 5.95953\n",
      "Iteration: 7400, Loss: 5.93546\n",
      "Iteration: 7500, Loss: 5.91139\n",
      "Iteration: 7600, Loss: 5.88732\n",
      "Iteration: 7700, Loss: 5.86326\n",
      "Iteration: 7800, Loss: 5.83919\n",
      "Iteration: 7900, Loss: 5.81512\n",
      "Iteration: 8000, Loss: 5.79106\n",
      "Iteration: 8100, Loss: 5.76699\n",
      "Iteration: 8200, Loss: 5.74292\n",
      "Iteration: 8300, Loss: 5.71886\n",
      "Iteration: 8400, Loss: 5.69479\n",
      "Iteration: 8500, Loss: 5.67072\n",
      "Iteration: 8600, Loss: 5.64665\n",
      "Iteration: 8700, Loss: 5.62259\n",
      "Iteration: 8800, Loss: 5.59852\n",
      "Iteration: 8900, Loss: 5.57445\n",
      "Iteration: 9000, Loss: 5.55039\n",
      "Iteration: 9100, Loss: 5.52632\n",
      "Iteration: 9200, Loss: 5.50225\n",
      "Iteration: 9300, Loss: 5.47818\n",
      "Iteration: 9400, Loss: 5.45412\n",
      "Iteration: 9500, Loss: 5.43005\n",
      "Iteration: 9600, Loss: 5.40598\n",
      "Iteration: 9700, Loss: 5.38192\n",
      "Iteration: 9800, Loss: 5.35785\n",
      "Iteration: 9900, Loss: 5.33378\n",
      "Iteration: 10000, Loss: 5.30972\n",
      "Iteration: 10100, Loss: 5.28565\n",
      "Iteration: 10200, Loss: 5.26158\n",
      "Iteration: 10300, Loss: 5.23751\n",
      "Iteration: 10400, Loss: 5.21345\n",
      "Iteration: 10500, Loss: 5.18938\n",
      "Iteration: 10600, Loss: 5.16531\n",
      "Iteration: 10700, Loss: 5.14125\n",
      "Iteration: 10800, Loss: 5.11718\n",
      "Iteration: 10900, Loss: 5.09311\n",
      "Iteration: 11000, Loss: 5.06904\n",
      "Iteration: 11100, Loss: 5.04498\n",
      "Iteration: 11200, Loss: 5.02091\n",
      "Iteration: 11300, Loss: 4.99684\n",
      "Iteration: 11400, Loss: 4.97278\n",
      "Iteration: 11500, Loss: 4.94871\n",
      "Iteration: 11600, Loss: 4.92464\n",
      "Iteration: 11700, Loss: 4.90057\n",
      "Iteration: 11800, Loss: 4.87651\n",
      "Iteration: 11900, Loss: 4.85244\n",
      "Iteration: 12000, Loss: 4.82837\n",
      "Iteration: 12100, Loss: 4.80431\n",
      "Iteration: 12200, Loss: 4.78024\n",
      "Iteration: 12300, Loss: 4.75617\n",
      "Iteration: 12400, Loss: 4.73210\n",
      "Iteration: 12500, Loss: 4.70804\n",
      "Iteration: 12600, Loss: 4.68397\n",
      "Iteration: 12700, Loss: 4.65990\n",
      "Iteration: 12800, Loss: 4.63584\n",
      "Iteration: 12900, Loss: 4.61177\n",
      "Iteration: 13000, Loss: 4.58770\n",
      "Iteration: 13100, Loss: 4.56364\n",
      "Iteration: 13200, Loss: 4.53957\n",
      "Iteration: 13300, Loss: 4.51550\n",
      "Iteration: 13400, Loss: 4.49143\n",
      "Iteration: 13500, Loss: 4.46737\n",
      "Iteration: 13600, Loss: 4.44330\n",
      "Iteration: 13700, Loss: 4.41923\n",
      "Iteration: 13800, Loss: 4.39517\n",
      "Iteration: 13900, Loss: 4.37110\n",
      "Iteration: 14000, Loss: 4.34703\n",
      "Iteration: 14100, Loss: 4.32296\n",
      "Iteration: 14200, Loss: 4.29890\n",
      "Iteration: 14300, Loss: 4.27483\n",
      "Iteration: 14400, Loss: 4.25076\n",
      "Iteration: 14500, Loss: 4.22670\n",
      "Iteration: 14600, Loss: 4.20263\n",
      "Iteration: 14700, Loss: 4.17856\n",
      "Iteration: 14800, Loss: 4.15449\n",
      "Iteration: 14900, Loss: 4.13043\n",
      "Iteration: 15000, Loss: 4.10636\n",
      "Iteration: 15100, Loss: 4.08229\n",
      "Iteration: 15200, Loss: 4.05823\n",
      "Iteration: 15300, Loss: 4.03416\n",
      "Iteration: 15400, Loss: 4.01009\n",
      "Iteration: 15500, Loss: 3.98602\n",
      "Iteration: 15600, Loss: 3.96196\n",
      "Iteration: 15700, Loss: 3.93789\n",
      "Iteration: 15800, Loss: 3.91382\n",
      "Iteration: 15900, Loss: 3.88976\n",
      "Iteration: 16000, Loss: 3.86569\n",
      "Iteration: 16100, Loss: 3.84162\n",
      "Iteration: 16200, Loss: 3.81756\n",
      "Iteration: 16300, Loss: 3.79349\n",
      "Iteration: 16400, Loss: 3.76942\n",
      "Iteration: 16500, Loss: 3.74535\n",
      "Iteration: 16600, Loss: 3.72129\n",
      "Iteration: 16700, Loss: 3.69722\n",
      "Iteration: 16800, Loss: 3.67315\n",
      "Iteration: 16900, Loss: 3.64909\n",
      "Iteration: 17000, Loss: 3.62502\n",
      "Iteration: 17100, Loss: 3.60095\n",
      "Iteration: 17200, Loss: 3.57688\n",
      "Iteration: 17300, Loss: 3.55282\n",
      "Iteration: 17400, Loss: 3.52875\n",
      "Iteration: 17500, Loss: 3.50468\n",
      "Iteration: 17600, Loss: 3.48062\n",
      "Iteration: 17700, Loss: 3.45655\n",
      "Iteration: 17800, Loss: 3.43248\n",
      "Iteration: 17900, Loss: 3.40842\n",
      "Iteration: 18000, Loss: 3.38435\n",
      "Iteration: 18100, Loss: 3.36028\n",
      "Iteration: 18200, Loss: 3.33621\n",
      "Iteration: 18300, Loss: 3.31215\n",
      "Iteration: 18400, Loss: 3.28808\n",
      "Iteration: 18500, Loss: 3.26401\n",
      "Iteration: 18600, Loss: 3.23994\n",
      "Iteration: 18700, Loss: 3.21588\n",
      "Iteration: 18800, Loss: 3.19181\n",
      "Iteration: 18900, Loss: 3.16774\n",
      "Iteration: 19000, Loss: 3.14368\n",
      "Iteration: 19100, Loss: 3.11961\n",
      "Iteration: 19200, Loss: 3.09554\n",
      "Iteration: 19300, Loss: 3.07148\n",
      "Iteration: 19400, Loss: 3.04741\n",
      "Iteration: 19500, Loss: 3.02334\n",
      "Iteration: 19600, Loss: 2.99927\n",
      "Iteration: 19700, Loss: 2.97521\n",
      "Iteration: 19800, Loss: 2.95114\n",
      "Iteration: 19900, Loss: 2.92707\n",
      "Iteration: 20000, Loss: 2.90301\n",
      "Iteration: 20100, Loss: 2.87894\n",
      "Iteration: 20200, Loss: 2.85487\n",
      "Iteration: 20300, Loss: 2.83080\n",
      "Iteration: 20400, Loss: 2.80674\n",
      "Iteration: 20500, Loss: 2.78267\n",
      "Iteration: 20600, Loss: 2.75860\n",
      "Iteration: 20700, Loss: 2.73454\n",
      "Iteration: 20800, Loss: 2.71047\n",
      "Iteration: 20900, Loss: 2.68640\n",
      "Iteration: 21000, Loss: 2.66233\n",
      "Iteration: 21100, Loss: 2.63827\n",
      "Iteration: 21200, Loss: 2.61420\n",
      "Iteration: 21300, Loss: 2.59013\n",
      "Iteration: 21400, Loss: 2.56607\n",
      "Iteration: 21500, Loss: 2.54200\n",
      "Iteration: 21600, Loss: 2.51793\n",
      "Iteration: 21700, Loss: 2.49387\n",
      "Iteration: 21800, Loss: 2.46980\n",
      "Iteration: 21900, Loss: 2.44573\n",
      "Iteration: 22000, Loss: 2.42166\n",
      "Iteration: 22100, Loss: 2.39760\n",
      "Iteration: 22200, Loss: 2.37353\n",
      "Iteration: 22300, Loss: 2.34946\n",
      "Iteration: 22400, Loss: 2.32540\n",
      "Iteration: 22500, Loss: 2.30133\n",
      "Iteration: 22600, Loss: 2.27726\n",
      "Iteration: 22700, Loss: 2.25319\n",
      "Iteration: 22800, Loss: 2.22913\n",
      "Iteration: 22900, Loss: 2.20506\n",
      "Iteration: 23000, Loss: 2.18099\n",
      "Iteration: 23100, Loss: 2.15693\n",
      "Iteration: 23200, Loss: 2.13286\n",
      "Iteration: 23300, Loss: 2.10879\n",
      "Iteration: 23400, Loss: 2.08472\n",
      "Iteration: 23500, Loss: 2.06066\n",
      "Iteration: 23600, Loss: 2.03659\n",
      "Iteration: 23700, Loss: 2.01252\n",
      "Iteration: 23800, Loss: 1.98846\n",
      "Iteration: 23900, Loss: 1.96439\n",
      "Iteration: 24000, Loss: 1.94032\n",
      "Iteration: 24100, Loss: 1.91626\n",
      "Iteration: 24200, Loss: 1.89219\n",
      "Iteration: 24300, Loss: 1.86812\n",
      "Iteration: 24400, Loss: 1.84405\n",
      "Iteration: 24500, Loss: 1.81999\n",
      "Iteration: 24600, Loss: 1.79592\n",
      "Iteration: 24700, Loss: 1.77185\n",
      "Iteration: 24800, Loss: 1.74779\n",
      "Iteration: 24900, Loss: 1.72372\n",
      "Iteration: 25000, Loss: 1.69965\n",
      "Iteration: 25100, Loss: 1.67558\n",
      "Iteration: 25200, Loss: 1.65152\n",
      "Iteration: 25300, Loss: 1.62745\n",
      "Iteration: 25400, Loss: 1.60338\n",
      "Iteration: 25500, Loss: 1.57932\n",
      "Iteration: 25600, Loss: 1.55525\n",
      "Iteration: 25700, Loss: 1.53118\n",
      "Iteration: 25800, Loss: 1.50711\n",
      "Iteration: 25900, Loss: 1.48305\n",
      "Iteration: 26000, Loss: 1.45898\n",
      "Iteration: 26100, Loss: 1.43491\n",
      "Iteration: 26200, Loss: 1.41085\n",
      "Iteration: 26300, Loss: 1.38678\n",
      "Iteration: 26400, Loss: 1.36271\n",
      "Iteration: 26500, Loss: 1.33865\n",
      "Iteration: 26600, Loss: 1.31458\n",
      "Iteration: 26700, Loss: 1.29051\n",
      "Iteration: 26800, Loss: 1.26644\n",
      "Iteration: 26900, Loss: 1.24238\n",
      "Iteration: 27000, Loss: 1.21831\n",
      "Iteration: 27100, Loss: 1.19424\n",
      "Iteration: 27200, Loss: 1.17018\n",
      "Iteration: 27300, Loss: 1.14611\n",
      "Iteration: 27400, Loss: 1.12204\n",
      "Iteration: 27500, Loss: 1.09797\n",
      "Iteration: 27600, Loss: 1.07391\n",
      "Iteration: 27700, Loss: 1.04984\n",
      "Iteration: 27800, Loss: 1.02577\n",
      "Iteration: 27900, Loss: 1.00171\n",
      "Iteration: 28000, Loss: 0.97764\n",
      "Iteration: 28100, Loss: 0.95357\n",
      "Iteration: 28200, Loss: 0.92950\n",
      "Iteration: 28300, Loss: 0.90544\n",
      "Iteration: 28400, Loss: 0.88137\n",
      "Iteration: 28500, Loss: 0.85730\n",
      "Iteration: 28600, Loss: 0.83324\n",
      "Iteration: 28700, Loss: 0.80917\n",
      "Iteration: 28800, Loss: 0.78510\n",
      "Iteration: 28900, Loss: 0.76103\n",
      "Iteration: 29000, Loss: 0.73697\n",
      "Iteration: 29100, Loss: 0.71290\n",
      "Iteration: 29200, Loss: 0.68883\n",
      "Iteration: 29300, Loss: 0.66477\n",
      "Iteration: 29400, Loss: 0.64070\n",
      "Iteration: 29500, Loss: 0.61663\n",
      "Iteration: 29600, Loss: 0.59256\n",
      "Iteration: 29700, Loss: 0.56850\n",
      "Iteration: 29800, Loss: 0.54443\n",
      "Iteration: 29900, Loss: 0.52036\n",
      "Iteration: 30000, Loss: 0.49630\n",
      "Iteration: 30100, Loss: 0.47223\n",
      "Iteration: 30200, Loss: 0.44816\n",
      "Iteration: 30300, Loss: 0.42410\n",
      "Iteration: 30400, Loss: 0.40003\n",
      "Iteration: 30500, Loss: 0.37596\n",
      "Iteration: 30600, Loss: 0.35189\n",
      "Iteration: 30700, Loss: 0.32783\n",
      "Iteration: 30800, Loss: 0.30376\n",
      "Iteration: 30900, Loss: 0.27969\n",
      "Iteration: 31000, Loss: 0.25563\n",
      "Iteration: 31100, Loss: 0.23156\n",
      "Iteration: 31200, Loss: 0.20749\n",
      "Iteration: 31300, Loss: 0.21221\n"
     ]
    }
   ],
   "execution_count": 52
  },
  {
   "metadata": {
    "ExecuteTime": {
     "end_time": "2025-02-13T21:59:00.643278Z",
     "start_time": "2025-02-13T21:59:00.635683Z"
    }
   },
   "cell_type": "code",
   "source": [
    "print('Number of iterations: ', iteration)\n",
    "for param_value, param in zip(linear_model.parameters(), ['weights', 'bias']):\n",
    "    print(f'{param}: {param_value}')\n",
    "\n",
    "print(f'\\nRMSE_Loss: {np.sqrt(loss_history[-1]):.4f}')"
   ],
   "id": "c858696ce0d13933",
   "outputs": [
    {
     "name": "stdout",
     "output_type": "stream",
     "text": [
      "Number of iterations:  31394\n",
      "weights: Parameter containing:\n",
      "tensor([[ 3.0039,  6.0038, -0.0362, -2.0961]], device='mps:0',\n",
      "       requires_grad=True)\n",
      "bias: Parameter containing:\n",
      "tensor([15.2635], device='mps:0', requires_grad=True)\n",
      "\n",
      "RMSE_Loss: 0.4609\n"
     ]
    }
   ],
   "execution_count": 53
  },
  {
   "metadata": {
    "ExecuteTime": {
     "end_time": "2025-02-13T21:59:00.679122Z",
     "start_time": "2025-02-13T21:59:00.644335Z"
    }
   },
   "cell_type": "code",
   "source": [
    "plt.plot(loss_history,\n",
    "         linewidth=0.5,)"
   ],
   "id": "810497c8346cc8c5",
   "outputs": [
    {
     "data": {
      "text/plain": [
       "[<matplotlib.lines.Line2D at 0x158ec8920>]"
      ]
     },
     "execution_count": 54,
     "metadata": {},
     "output_type": "execute_result"
    },
    {
     "data": {
      "text/plain": [
       "<Figure size 640x480 with 1 Axes>"
      ],
      "image/png": "[encoded data removed]"
     },
     "metadata": {},
     "output_type": "display_data"
    }
   ],
   "execution_count": 54
  },
  {
   "metadata": {
    "ExecuteTime": {
     "end_time": "2025-02-13T21:59:00.681706Z",
     "start_time": "2025-02-13T21:59:00.679674Z"
    }
   },
   "cell_type": "code",
   "source": [
    "X_test = torch.randint(\n",
    "    low=-8,\n",
    "    high=27,\n",
    "    device='mps',\n",
    "    size=(10_000, 4),\n",
    "    dtype=torch.float\n",
    ")\n",
    "y_test = X_test @ M + Q"
   ],
   "id": "6344e476e51d8f3e",
   "outputs": [],
   "execution_count": 55
  },
  {
   "metadata": {
    "ExecuteTime": {
     "end_time": "2025-02-13T21:59:00.685429Z",
     "start_time": "2025-02-13T21:59:00.682287Z"
    }
   },
   "cell_type": "code",
   "source": [
    "linear_model.eval()\n",
    "with torch.inference_mode():\n",
    "    y_pred_test = linear_model(X_test)\n",
    "print(f'Shape of y_pred_test: {y_pred_test.shape} | Shape of y_test: {y_test.shape}')\n",
    "rmse = torch.sqrt(loss_foo(y_pred_test, y_test))\n",
    "print(f'RMSE on test set: {rmse:.4f}')"
   ],
   "id": "ac5dce64323e2806",
   "outputs": [
    {
     "name": "stdout",
     "output_type": "stream",
     "text": [
      "Shape of y_pred_test: torch.Size([10000, 1]) | Shape of y_test: torch.Size([10000, 1])\n",
      "RMSE on test set: 0.2122\n"
     ]
    }
   ],
   "execution_count": 56
  },
  {
   "metadata": {
    "ExecuteTime": {
     "end_time": "2025-02-13T21:59:00.687111Z",
     "start_time": "2025-02-13T21:59:00.686013Z"
    }
   },
   "cell_type": "code",
   "source": "",
   "id": "af8539c2d597b704",
   "outputs": [],
   "execution_count": 56
  }
 ],
 "metadata": {
  "kernelspec": {
   "display_name": "Python 3",
   "language": "python",
   "name": "python3"
  },
  "language_info": {
   "codemirror_mode": {
    "name": "ipython",
    "version": 2
   },
   "file_extension": ".py",
   "mimetype": "text/x-python",
   "name": "python",
   "nbconvert_exporter": "python",
   "pygments_lexer": "ipython2",
   "version": "2.7.6"
  }
 },
 "nbformat": 4,
 "nbformat_minor": 5
}
